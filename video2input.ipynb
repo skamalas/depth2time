{
 "cells": [
  {
   "cell_type": "code",
   "execution_count": 1,
   "metadata": {
    "collapsed": false
   },
   "outputs": [
    {
     "name": "stdout",
     "output_type": "stream",
     "text": [
      "Populating the interactive namespace from numpy and matplotlib\n"
     ]
    }
   ],
   "source": [
    "%matplotlib inline\n",
    "%pylab inline \n",
    "\n",
    "from __future__ import unicode_literals\n",
    "from IPython.display import YouTubeVideo, clear_output\n",
    "import youtube_dl\n",
    "\n",
    "import cv2\n",
    "import os\n"
   ]
  },
  {
   "cell_type": "code",
   "execution_count": 8,
   "metadata": {
    "collapsed": false
   },
   "outputs": [],
   "source": [
    "\n",
    "# Video filename\n",
    "video_url = \"https://www.youtube.com/watch?v=Cn0imlPptok\"\n",
    "\n",
    "video_id = video_url.split('=')[-1]\n",
    "video_fn = video_id + '.mp4'\n",
    "YouTubeVideo(video_id)\n",
    "ydl = youtube_dl.YoutubeDL({'outtmpl': '%(id)s.%(ext)s'})\n",
    "cwd = os.getcwd()\n",
    "\n",
    "with ydl:\n",
    "    ydl.download([video_url])\n",
    "\n",
    "vid = cv2.VideoCapture(video_fn)\n",
    "\n",
    "try:\n",
    "    frames = []\n",
    "    while(True):\n",
    "        # Capture frame-by-frame\n",
    "        ret, frame = vid.read()\n",
    "        if not ret:\n",
    "            vid.release()\n",
    "            print \"Released Video Resource\"\n",
    "            break\n",
    "\n",
    "        # Convert the image from OpenCV BGR format to matplotlib RGB format\n",
    "        # to display the image\n",
    "        frame = cv2.cvtColor(frame, cv2.COLOR_BGR2RGB)\n",
    "        frames.append(frame.astype(np.uint8))\n",
    "      \n",
    "except KeyboardInterrupt:\n",
    "    vid.release()\n",
    "    print \"Released Video Resource - interrupt\"\n",
    "\n",
    "video = np.array(frames)\n",
    "print video.shape, video.dtype\n",
    "N, h, w, chan = video.shape        "
   ]
  },
  {
   "cell_type": "code",
   "execution_count": 21,
   "metadata": {
    "collapsed": false
   },
   "outputs": [
    {
     "name": "stdout",
     "output_type": "stream",
     "text": [
      "(256, 720, 1280, 3) uint8\n"
     ]
    }
   ],
   "source": [
    "depth_levels = 256\n",
    "\n",
    "inspect_frames = False\n",
    "to_inspect = [170, 200,300,400,500,800,1000, 1100]\n",
    "\n",
    "if inspect_frames:\n",
    "    for i in to_inspect:\n",
    "        axis('off')\n",
    "        title(\"Inspect frames - Frame %d\" % i)\n",
    "        imshow(video[i])\n",
    "        show()\n",
    "else:\n",
    "    min_frame = 170\n",
    "    max_frame = 1100\n",
    "\n",
    "    frames = np.linspace(min_frame, max_frame, num=depth_levels, dtype=np.int32)\n",
    "\n",
    "    dvideo = video[frames].astype(np.uint8)\n",
    "    print dvideo.shape, dvideo.dtype\n",
    "    np.save(video_fn[:-4] + \"_\" + str(depth_levels) + \".npy\", dvideo)"
   ]
  }
 ],
 "metadata": {
  "anaconda-cloud": {},
  "kernelspec": {
   "display_name": "Python 2",
   "language": "python",
   "name": "python2"
  },
  "language_info": {
   "codemirror_mode": {
    "name": "ipython",
    "version": 2
   },
   "file_extension": ".py",
   "mimetype": "text/x-python",
   "name": "python",
   "nbconvert_exporter": "python",
   "pygments_lexer": "ipython2",
   "version": "2.7.13"
  }
 },
 "nbformat": 4,
 "nbformat_minor": 1
}
